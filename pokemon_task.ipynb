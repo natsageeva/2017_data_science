{
 "cells": [
  {
   "cell_type": "code",
   "execution_count": null,
   "metadata": {
    "collapsed": true
   },
   "outputs": [],
   "source": [
    "import numpy as np\n",
    "import pandas as pd\n",
    "import matplotlib.pyplot as plt\n",
    "from matplotlib.font_manager import FontProperties"
   ]
  },
  {
   "cell_type": "code",
   "execution_count": null,
   "metadata": {
    "collapsed": true
   },
   "outputs": [],
   "source": [
    "pokemon_data = pd.read_csv('pokemon.csv')\n",
    "abilities_data = pd.read_csv('abilities.csv')\n",
    "egg_group_data = pd.read_csv('egg_groups.csv')"
   ]
  },
  {
   "cell_type": "code",
   "execution_count": null,
   "metadata": {
    "collapsed": false
   },
   "outputs": [
    {
     "data": {
      "text/html": [
       "<div>\n",
       "<table border=\"1\" class=\"dataframe\">\n",
       "  <thead>\n",
       "    <tr style=\"text-align: right;\">\n",
       "      <th></th>\n",
       "      <th>id</th>\n",
       "      <th>identifier</th>\n",
       "      <th>name</th>\n",
       "      <th>name_phonetic</th>\n",
       "      <th>species</th>\n",
       "      <th>name_jp</th>\n",
       "      <th>name_jp_romaji</th>\n",
       "      <th>species_jp</th>\n",
       "      <th>generation_id</th>\n",
       "      <th>ndex</th>\n",
       "      <th>...</th>\n",
       "      <th>exp_yield</th>\n",
       "      <th>base_happiness</th>\n",
       "      <th>egg_group1_id</th>\n",
       "      <th>egg_group2_id</th>\n",
       "      <th>is_baby</th>\n",
       "      <th>baby_breed_item_id</th>\n",
       "      <th>hatch_counter</th>\n",
       "      <th>lvl_100_exp</th>\n",
       "      <th>pokemon_order</th>\n",
       "      <th>legacy_id</th>\n",
       "    </tr>\n",
       "  </thead>\n",
       "  <tbody>\n",
       "    <tr>\n",
       "      <th>0</th>\n",
       "      <td>1</td>\n",
       "      <td>bulbasaur</td>\n",
       "      <td>Bulbasaur</td>\n",
       "      <td>Bulbasaur</td>\n",
       "      <td>Seed</td>\n",
       "      <td>フシギダネ</td>\n",
       "      <td>Fushigidane</td>\n",
       "      <td>たね</td>\n",
       "      <td>1</td>\n",
       "      <td>1</td>\n",
       "      <td>...</td>\n",
       "      <td>64</td>\n",
       "      <td>70</td>\n",
       "      <td>1</td>\n",
       "      <td>7.0</td>\n",
       "      <td>0</td>\n",
       "      <td>NaN</td>\n",
       "      <td>20</td>\n",
       "      <td>1059860</td>\n",
       "      <td>1</td>\n",
       "      <td>1.0</td>\n",
       "    </tr>\n",
       "    <tr>\n",
       "      <th>1</th>\n",
       "      <td>2</td>\n",
       "      <td>ivysaur</td>\n",
       "      <td>Ivysaur</td>\n",
       "      <td>Ivysaur</td>\n",
       "      <td>Seed</td>\n",
       "      <td>フシギソウ</td>\n",
       "      <td>Fushigisou</td>\n",
       "      <td>たね</td>\n",
       "      <td>1</td>\n",
       "      <td>2</td>\n",
       "      <td>...</td>\n",
       "      <td>141</td>\n",
       "      <td>70</td>\n",
       "      <td>1</td>\n",
       "      <td>7.0</td>\n",
       "      <td>0</td>\n",
       "      <td>NaN</td>\n",
       "      <td>20</td>\n",
       "      <td>1059860</td>\n",
       "      <td>2</td>\n",
       "      <td>2.0</td>\n",
       "    </tr>\n",
       "    <tr>\n",
       "      <th>2</th>\n",
       "      <td>3</td>\n",
       "      <td>venusaur</td>\n",
       "      <td>Venusaur</td>\n",
       "      <td>Veenasore</td>\n",
       "      <td>Seed</td>\n",
       "      <td>フシギバナ</td>\n",
       "      <td>Fushigibana</td>\n",
       "      <td>たね</td>\n",
       "      <td>1</td>\n",
       "      <td>3</td>\n",
       "      <td>...</td>\n",
       "      <td>208</td>\n",
       "      <td>70</td>\n",
       "      <td>1</td>\n",
       "      <td>7.0</td>\n",
       "      <td>0</td>\n",
       "      <td>NaN</td>\n",
       "      <td>20</td>\n",
       "      <td>1059860</td>\n",
       "      <td>3</td>\n",
       "      <td>3.0</td>\n",
       "    </tr>\n",
       "    <tr>\n",
       "      <th>3</th>\n",
       "      <td>4</td>\n",
       "      <td>charmander</td>\n",
       "      <td>Charmander</td>\n",
       "      <td>Char-mander</td>\n",
       "      <td>Lizard</td>\n",
       "      <td>ヒトカゲ</td>\n",
       "      <td>Hitokage</td>\n",
       "      <td>とかげ</td>\n",
       "      <td>1</td>\n",
       "      <td>4</td>\n",
       "      <td>...</td>\n",
       "      <td>65</td>\n",
       "      <td>70</td>\n",
       "      <td>1</td>\n",
       "      <td>14.0</td>\n",
       "      <td>0</td>\n",
       "      <td>NaN</td>\n",
       "      <td>20</td>\n",
       "      <td>1059860</td>\n",
       "      <td>4</td>\n",
       "      <td>4.0</td>\n",
       "    </tr>\n",
       "    <tr>\n",
       "      <th>4</th>\n",
       "      <td>5</td>\n",
       "      <td>charmeleon</td>\n",
       "      <td>Charmeleon</td>\n",
       "      <td>Char-meeleon</td>\n",
       "      <td>Flame</td>\n",
       "      <td>リザード</td>\n",
       "      <td>Lizardo</td>\n",
       "      <td>かえん</td>\n",
       "      <td>1</td>\n",
       "      <td>5</td>\n",
       "      <td>...</td>\n",
       "      <td>142</td>\n",
       "      <td>70</td>\n",
       "      <td>1</td>\n",
       "      <td>14.0</td>\n",
       "      <td>0</td>\n",
       "      <td>NaN</td>\n",
       "      <td>20</td>\n",
       "      <td>1059860</td>\n",
       "      <td>5</td>\n",
       "      <td>5.0</td>\n",
       "    </tr>\n",
       "  </tbody>\n",
       "</table>\n",
       "<p>5 rows × 38 columns</p>\n",
       "</div>"
      ],
      "text/plain": [
       "   id  identifier        name name_phonetic species name_jp name_jp_romaji  \\\n",
       "0   1   bulbasaur   Bulbasaur     Bulbasaur    Seed   フシギダネ    Fushigidane   \n",
       "1   2     ivysaur     Ivysaur       Ivysaur    Seed   フシギソウ     Fushigisou   \n",
       "2   3    venusaur    Venusaur     Veenasore    Seed   フシギバナ    Fushigibana   \n",
       "3   4  charmander  Charmander   Char-mander  Lizard    ヒトカゲ       Hitokage   \n",
       "4   5  charmeleon  Charmeleon  Char-meeleon   Flame    リザード        Lizardo   \n",
       "\n",
       "  species_jp  generation_id  ndex    ...      exp_yield  base_happiness  \\\n",
       "0         たね              1     1    ...             64              70   \n",
       "1         たね              1     2    ...            141              70   \n",
       "2         たね              1     3    ...            208              70   \n",
       "3        とかげ              1     4    ...             65              70   \n",
       "4        かえん              1     5    ...            142              70   \n",
       "\n",
       "   egg_group1_id  egg_group2_id  is_baby  baby_breed_item_id  hatch_counter  \\\n",
       "0              1            7.0        0                 NaN             20   \n",
       "1              1            7.0        0                 NaN             20   \n",
       "2              1            7.0        0                 NaN             20   \n",
       "3              1           14.0        0                 NaN             20   \n",
       "4              1           14.0        0                 NaN             20   \n",
       "\n",
       "   lvl_100_exp  pokemon_order  legacy_id  \n",
       "0      1059860              1        1.0  \n",
       "1      1059860              2        2.0  \n",
       "2      1059860              3        3.0  \n",
       "3      1059860              4        4.0  \n",
       "4      1059860              5        5.0  \n",
       "\n",
       "[5 rows x 38 columns]"
      ]
     },
     "execution_count": 3,
     "metadata": {},
     "output_type": "execute_result"
    }
   ],
   "source": [
    "pokemon_data.head()"
   ]
  },
  {
   "cell_type": "code",
   "execution_count": null,
   "metadata": {
    "collapsed": false
   },
   "outputs": [],
   "source": [
    "abilities_data.head()"
   ]
  },
  {
   "cell_type": "code",
   "execution_count": null,
   "metadata": {
    "collapsed": false
   },
   "outputs": [],
   "source": [
    "egg_group_data.head()"
   ]
  },
  {
   "cell_type": "code",
   "execution_count": null,
   "metadata": {
    "collapsed": true
   },
   "outputs": [],
   "source": [
    "pokemon_data = pokemon_data.replace('NaN',0)   \n",
    "fig = 1"
   ]
  },
  {
   "cell_type": "code",
   "execution_count": null,
   "metadata": {
    "collapsed": false
   },
   "outputs": [],
   "source": [
    "# Сгруппируем покемонов по типам, найдем часто встречающиеся и редковстречающиеся типы \n",
    "type1_dict = pokemon_data.groupby(pokemon_data['type1_id']).size().to_dict()\n",
    "type2_dict = pokemon_data.groupby(pokemon_data['type2_id']).size().to_dict()\n",
    "for k in type1_dict.iterkeys():\n",
    "    if k in type2_dict.iterkeys():\n",
    "         type1_dict[k] += type2_dict[k]\n",
    "plt.figure(fig)\n",
    "fig += 1\n",
    "plt.bar(type1_dict.keys(), type1_dict.values(), color = '#99FFCC')\n",
    "plt.bar(min(type1_dict, key=type1_dict.get), type1_dict[min(type1_dict, key=type1_dict.get)], color = '#99CCFF', label = 'uncommon')\n",
    "plt.bar(max(type1_dict, key=type1_dict.get), type1_dict[max(type1_dict, key=type1_dict.get)], color = '#FF99CC',label = 'common')\n",
    "plt.title('Type')\n",
    "plt.xlabel('group')\n",
    "plt.ylabel('count')\n",
    "plt.xticks(type1_dict.keys())\n",
    "plt.legend(loc = 2, bbox_to_anchor = (1.05, 1)) "
   ]
  },
  {
   "cell_type": "code",
   "execution_count": null,
   "metadata": {
    "collapsed": false
   },
   "outputs": [],
   "source": [
    "# Посчитаем ИМТ покемонов (предположим, что формула для расчета ИМТ человека применима к покемонам)\n",
    "pokemon_data['BMI'] = pokemon_data['weight']*10./pokemon_data['height'] ** 2\n",
    "type1_dict = pokemon_data.groupby(pokemon_data['type1_id'])['BMI'].mean().to_dict()\n",
    "type2_dict = pokemon_data.groupby(pokemon_data['type2_id'])['BMI'].mean().to_dict()\n",
    "for k in type1_dict.iterkeys():\n",
    "    if k in type2_dict.iterkeys():\n",
    "         type1_dict[k] += type2_dict[k]\n",
    "plt.figure(fig)  \n",
    "fig += 1\n",
    "plt.scatter(pokemon_data['type1_id'], pokemon_data['BMI'], color = '#99FFCC', alpha = 0.4, lw = 0, label = None )\n",
    "plt.scatter(pokemon_data['type2_id'][pokemon_data['type2_id']<>0], pokemon_data['BMI'][pokemon_data['type2_id']<>0], color = '#99FFCC', alpha = 0.4, lw = 0 )\n",
    "plt.plot(type1_dict.keys(), [v/2 for v in type1_dict.values()], 'o', color='#FF9966', label = 'mean')\n",
    "min_y = [min(pokemon_data['BMI'])]*len(pokemon_data['type1_id'][pokemon_data['BMI'] == min(pokemon_data['BMI'])])\n",
    "min_x = pokemon_data['type1_id'][pokemon_data['BMI'] == min(pokemon_data['BMI'])]\n",
    "max_y = [max(pokemon_data['BMI'])]*len(pokemon_data['type1_id'][pokemon_data['BMI'] == max(pokemon_data['BMI'])])\n",
    "max_x = pokemon_data['type1_id'][pokemon_data['BMI'] == max(pokemon_data['BMI'])]\n",
    "plt.plot(min_x, min_y, 'o', color = '#99CCFF', label = 'min')\n",
    "plt.plot(max_x, max_y, 'o', color = '#FF99CC',label = 'max')\n",
    "plt.title(\"Pokemon's BMI\")\n",
    "plt.xlabel('group')\n",
    "plt.ylabel('BMI')\n",
    "plt.xticks(type1_dict.keys())\n",
    "plt.legend(loc = 2, bbox_to_anchor = (1.05, 1)) "
   ]
  },
  {
   "cell_type": "code",
   "execution_count": null,
   "metadata": {
    "collapsed": false
   },
   "outputs": [],
   "source": [
    "# Посчитаем base_happines для каждой группы\n",
    "type1_dict = pokemon_data.groupby(pokemon_data['type1_id'])['base_happiness'].mean().to_dict()\n",
    "type2_dict = pokemon_data.groupby(pokemon_data['type2_id'])['base_happiness'].mean().to_dict()\n",
    "for k in type1_dict.iterkeys():\n",
    "    if k in type2_dict.iterkeys():\n",
    "         type1_dict[k] += type2_dict[k]\n",
    "plt.figure(fig)  \n",
    "fig += 1\n",
    "plt.scatter(pokemon_data['type1_id'], pokemon_data['base_happiness'], color = '#99FFCC', alpha = 0.4, lw = 0, label = None  )\n",
    "plt.scatter(pokemon_data['type2_id'][pokemon_data['type2_id']<>0], pokemon_data['base_happiness'][pokemon_data['type2_id']<>0], color = '#99FFCC', alpha = 0.4, lw = 0 )\n",
    "plt.plot(type1_dict.keys(), [v/2 for v in type1_dict.values()], 'o', color='#FF9966', label = 'mean')\n",
    "min_y = [min(pokemon_data['base_happiness'])]*len(pokemon_data['type1_id'][pokemon_data['base_happiness'] == min(pokemon_data['base_happiness'])])\n",
    "min_x = pokemon_data['type1_id'][pokemon_data['base_happiness'] == min(pokemon_data['base_happiness'])]\n",
    "max_y = [max(pokemon_data['base_happiness'])]*len(pokemon_data['type1_id'][pokemon_data['base_happiness'] == max(pokemon_data['base_happiness'])])\n",
    "max_x = pokemon_data['type1_id'][pokemon_data['base_happiness'] == max(pokemon_data['base_happiness'])]\n",
    "plt.plot(min_x, min_y, 'o', color = '#99CCFF', label = 'min')\n",
    "plt.plot(max_x, max_y, 'o', color = '#FF99CC',label = 'max')\n",
    "plt.title(\"Pokemon's base happines\")\n",
    "plt.xlabel('group')\n",
    "plt.ylabel('base happines')\n",
    "plt.xticks(type1_dict.keys())\n",
    "plt.legend(loc = 2, bbox_to_anchor = (1.05, 1)) "
   ]
  },
  {
   "cell_type": "code",
   "execution_count": null,
   "metadata": {
    "collapsed": false
   },
   "outputs": [],
   "source": [
    "# Посчитаем catch_rate для каждой группы\n",
    "type1_dict = pokemon_data.groupby(pokemon_data['type1_id'])['catch_rate'].mean().to_dict()\n",
    "type2_dict = pokemon_data.groupby(pokemon_data['type2_id'])['catch_rate'].mean().to_dict()\n",
    "for k in type1_dict.iterkeys():\n",
    "    if k in type2_dict.iterkeys():\n",
    "         type1_dict[k] += type2_dict[k]\n",
    "plt.figure(fig)   \n",
    "fig += 1\n",
    "plt.scatter(pokemon_data['type1_id'], pokemon_data['catch_rate'], color = '#99FFCC', alpha = 0.4, lw = 0, label = None  )\n",
    "plt.scatter(pokemon_data['type2_id'][pokemon_data['type2_id']<>0], pokemon_data['catch_rate'][pokemon_data['type2_id']<>0], color = '#99FFCC', alpha = 0.4, lw = 0 )\n",
    "plt.plot(type1_dict.keys(), [v/2 for v in type1_dict.values()], 'o', color='#FF9966', label = 'mean')\n",
    "min_y = [min(pokemon_data['catch_rate'])]*len(pokemon_data['type1_id'][pokemon_data['catch_rate'] == min(pokemon_data['catch_rate'])])\n",
    "min_x = pokemon_data['type1_id'][pokemon_data['catch_rate'] == min(pokemon_data['catch_rate'])]\n",
    "max_y = [max(pokemon_data['catch_rate'])]*len(pokemon_data['type1_id'][pokemon_data['catch_rate'] == max(pokemon_data['catch_rate'])])\n",
    "max_x = pokemon_data['type1_id'][pokemon_data['catch_rate'] == max(pokemon_data['catch_rate'])]\n",
    "plt.plot(min_x, min_y, 'o', color = '#99CCFF', label = 'min')\n",
    "plt.plot(max_x, max_y, 'o', color = '#FF99CC',label = 'max')\n",
    "plt.title(\"Pokemon's catch rate\")\n",
    "plt.xlabel('group')\n",
    "plt.ylabel('catch rate')\n",
    "plt.xticks(type1_dict.keys())\n",
    "plt.legend(loc = 2, bbox_to_anchor = (1.05, 1)) "
   ]
  },
  {
   "cell_type": "code",
   "execution_count": null,
   "metadata": {
    "collapsed": false
   },
   "outputs": [],
   "source": [
    " # Посчитаем exp_yield для каждой группы\n",
    "type1_dict = pokemon_data.groupby(pokemon_data['type1_id'])['exp_yield'].mean().to_dict()\n",
    "type2_dict = pokemon_data.groupby(pokemon_data['type2_id'])['exp_yield'].mean().to_dict()\n",
    "for k in type1_dict.iterkeys():\n",
    "    if k in type2_dict.iterkeys():\n",
    "         type1_dict[k] += type2_dict[k]\n",
    "plt.figure(fig)\n",
    "fig += 1    \n",
    "plt.scatter(pokemon_data['type1_id'], pokemon_data['catch_rate'], color = '#99FFCC', alpha = 0.4, lw = 0, label = None  )\n",
    "plt.scatter(pokemon_data['type2_id'][pokemon_data['type2_id']<>0], pokemon_data['exp_yield'][pokemon_data['type2_id']<>0], color = '#99FFCC', alpha = 0.4, lw = 0 )\n",
    "plt.plot(type1_dict.keys(), [v/2 for v in type1_dict.values()], 'o', color='#FF9966', label = 'mean')\n",
    "min_y = [min(pokemon_data['exp_yield'])]*len(pokemon_data['type1_id'][pokemon_data['exp_yield'] == min(pokemon_data['exp_yield'])])\n",
    "min_x = pokemon_data['type1_id'][pokemon_data['exp_yield'] == min(pokemon_data['exp_yield'])]\n",
    "max_y = [max(pokemon_data['exp_yield'])]*len(pokemon_data['type1_id'][pokemon_data['exp_yield'] == max(pokemon_data['exp_yield'])])\n",
    "max_x = pokemon_data['type1_id'][pokemon_data['exp_yield'] == max(pokemon_data['exp_yield'])]\n",
    "plt.plot(min_x, min_y, 'o', color = '#99CCFF', label = 'min')\n",
    "plt.plot(max_x, max_y, 'o', color = '#FF99CC',label = 'max')\n",
    "plt.title(\"Pokemon's exp yield\")\n",
    "plt.xlabel('group')\n",
    "plt.ylabel('exp yield')\n",
    "plt.xticks(type1_dict.keys())\n",
    "plt.legend(loc = 2, bbox_to_anchor = (1.05, 1))"
   ]
  },
  {
   "cell_type": "code",
   "execution_count": null,
   "metadata": {
    "collapsed": true
   },
   "outputs": [],
   "source": []
  }
 ],
 "metadata": {
  "kernelspec": {
   "display_name": "Python 2",
   "language": "python",
   "name": "python2"
  },
  "language_info": {
   "codemirror_mode": {
    "name": "ipython",
    "version": 2
   },
   "file_extension": ".py",
   "mimetype": "text/x-python",
   "name": "python",
   "nbconvert_exporter": "python",
   "pygments_lexer": "ipython2",
   "version": "2.7.12"
  }
 },
 "nbformat": 4,
 "nbformat_minor": 1
}
